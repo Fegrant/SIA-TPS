{
 "cells": [
  {
   "cell_type": "code",
   "execution_count": 3,
   "id": "b5d2e15a",
   "metadata": {},
   "outputs": [
    {
     "name": "stdout",
     "output_type": "stream",
     "text": [
      "           Country    Area    GDP  Inflation  Life.expect  Military   \n",
      "0          Austria   83871  41600        3.5        79.91      0.80  \\\n",
      "1          Belgium   30528  37800        3.5        79.65      1.30   \n",
      "2         Bulgaria  110879  13800        4.2        73.84      2.60   \n",
      "3          Croatia   56594  18000        2.3        75.99      2.39   \n",
      "4   Czech Republic   78867  27100        1.9        77.38      1.15   \n",
      "5          Denmark   43094  37000        2.8        78.78      1.30   \n",
      "6          Estonia   45228  20400        5.0        73.58      2.00   \n",
      "7          Finland  338145  36000        3.3        79.41      2.00   \n",
      "8          Germany  357022  38100        2.5        80.19      1.50   \n",
      "9           Greece  131957  26300        3.3        80.05      4.30   \n",
      "10         Hungary   93028  19600        3.9        75.02      1.75   \n",
      "11         Iceland  103000  38100        4.0        81.00      0.00   \n",
      "12         Ireland   70273  40800        2.6        80.32      0.90   \n",
      "13           Italy  301340  30500        2.9        81.86      1.80   \n",
      "14          Latvia   64589  16800        4.4        72.93      1.10   \n",
      "15       Lithuania   65300  19100        4.1        75.55      0.90   \n",
      "16      Luxembourg    2586  80600        3.4        79.75      0.90   \n",
      "17     Netherlands   41543  42000        2.3        80.91      1.60   \n",
      "18          Norway  323802  53400        1.3        80.32      1.90   \n",
      "19          Poland  312685  20200        4.2        76.25      1.90   \n",
      "20        Portugal   92090  23400        3.7        78.70      2.30   \n",
      "21        Slovakia   49035  23300        3.9        76.03      1.08   \n",
      "22        Slovenia   20273  28800        1.8        77.48      1.70   \n",
      "23           Spain  505370  30500        3.1        81.27      1.20   \n",
      "24          Sweden  450295  40700        3.0        81.18      1.50   \n",
      "25     Switzerland   41277  44500        0.2        81.17      1.00   \n",
      "26         Ukraine  603550   7200        8.0        68.74      1.40   \n",
      "27  United Kingdom  243610  36500        4.5        80.17      2.70   \n",
      "\n",
      "    Pop.growth  Unemployment  \n",
      "0         0.03           4.2  \n",
      "1         0.06           7.2  \n",
      "2        -0.80           9.6  \n",
      "3        -0.09          17.7  \n",
      "4        -0.13           8.5  \n",
      "5         0.24           6.1  \n",
      "6        -0.65          12.5  \n",
      "7         0.07           7.8  \n",
      "8        -0.20           6.0  \n",
      "9         0.06          17.4  \n",
      "10       -0.18          10.9  \n",
      "11        0.67           7.4  \n",
      "12        1.11          14.4  \n",
      "13        0.38           8.4  \n",
      "14       -0.60          12.8  \n",
      "15       -0.28          15.4  \n",
      "16        1.14           5.7  \n",
      "17        0.45           4.4  \n",
      "18        0.33           3.3  \n",
      "19       -0.08          12.4  \n",
      "20        0.18          12.7  \n",
      "21        0.10          13.2  \n",
      "22       -0.19          11.8  \n",
      "23        0.65          21.7  \n",
      "24        0.17           7.5  \n",
      "25        0.92           2.8  \n",
      "26       -0.63           7.9  \n",
      "27        0.55           8.1  \n"
     ]
    }
   ],
   "source": [
    "import pandas as pd\n",
    "from sklearn.decomposition import PCA\n",
    "\n",
    "df = pd.read_csv('inputs/europe.csv')"
   ]
  },
  {
   "cell_type": "code",
   "execution_count": null,
   "id": "5123c087",
   "metadata": {},
   "outputs": [],
   "source": []
  }
 ],
 "metadata": {
  "kernelspec": {
   "display_name": "Python 3 (ipykernel)",
   "language": "python",
   "name": "python3"
  },
  "language_info": {
   "codemirror_mode": {
    "name": "ipython",
    "version": 3
   },
   "file_extension": ".py",
   "mimetype": "text/x-python",
   "name": "python",
   "nbconvert_exporter": "python",
   "pygments_lexer": "ipython3",
   "version": "3.11.0"
  }
 },
 "nbformat": 4,
 "nbformat_minor": 5
}
